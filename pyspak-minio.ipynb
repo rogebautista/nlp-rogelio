{
 "cells": [
  {
   "cell_type": "code",
   "execution_count": null,
   "metadata": {
    "collapsed": true,
    "pycharm": {
     "name": "#%%\n"
    }
   },
   "outputs": [],
   "source": [
    "# Import required modules\n",
    "from pyspark.sql import SparkSession\n",
    "\n",
    "# Create SparkSession\n",
    "spark = SparkSession.builder \\\n",
    "    .master(\"spark://spark-master:7077\") \\\n",
    "    .appName(\"minio-to-hadoop\") \\\n",
    "    .config(\"spark.jars.packages\", \"org.apache.hadoop:hadoop-aws:3.2.1\") \\\n",
    "    .config(\"spark.jars.packages\", \"com.google.guava:guava:27.0-jre,org.apache.httpcomponents:httpcore:4.4.8\") \\\n",
    "    .getOrCreate()\n",
    "\n",
    "# Set Minio credentials\n",
    "access_key = \"minio_spark\"\n",
    "secret_key = \"minio_spark\"\n",
    "bucket_name = \"lanited-001\"\n",
    "file_path = \"s3a://\"+bucket_name+\"/insurance.csv\"\n",
    "\n",
    "print(file_path)\n",
    "# Set Hadoop credentials\n",
    "hdfs_uri = \"hdfs://namenode:9000/\"\n",
    "hadoop_username = \"root\"\n",
    "\n",
    "# Set configuration properties for Minio\n",
    "spark.conf.set(\"spark.hadoop.fs.s3a.access.key\", access_key)\n",
    "spark.conf.set(\"spark.hadoop.fs.s3a.secret.key\", secret_key)\n",
    "spark.conf.set(\"spark.hadoop.fs.s3a.endpoint\", \"http://minio:9000\")\n",
    "spark.conf.set(\"spark.hadoop.fs.s3a.connection.ssl.enabled\", \"false\")\n",
    "\n",
    "# Set configuration properties for Hadoop\n",
    "spark.conf.set(\"spark.hadoop.fs.defaultFS\", hdfs_uri)\n",
    "spark.conf.set(\"spark.hadoop.fs.hdfs.impl\", \"org.apache.hadoop.hdfs.DistributedFileSystem\")\n",
    "spark.conf.set(\"spark.hadoop.fs.file.impl\", \"org.apache.hadoop.fs.LocalFileSystem\")\n",
    "spark.conf.set(\"spark.hadoop.fs.hdfs.impl.disable.cache\", \"true\")\n",
    "spark.conf.set(\"spark.hadoop.fs.permissions.umask-mode\", \"002\")\n",
    "spark.conf.set(\"spark.hadoop.fs.s3a.impl\", \"org.apache.hadoop.fs.s3a.S3AFileSystem\")\n",
    "spark.conf.set(\"spark.hadoop.fs.s3a.aws.credentials.provider\", \"org.apache.hadoop.fs.s3a.SimpleAWSCredentialsProvider\")\n"
   ]
  }
 ],
 "metadata": {
  "kernelspec": {
   "display_name": "Python 3",
   "language": "python",
   "name": "python3"
  },
  "language_info": {
   "codemirror_mode": {
    "name": "ipython",
    "version": 2
   },
   "file_extension": ".py",
   "mimetype": "text/x-python",
   "name": "python",
   "nbconvert_exporter": "python",
   "pygments_lexer": "ipython2",
   "version": "2.7.6"
  }
 },
 "nbformat": 4,
 "nbformat_minor": 0
}